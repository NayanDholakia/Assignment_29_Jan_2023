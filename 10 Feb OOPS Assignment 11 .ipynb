{
 "cells": [
  {
   "cell_type": "code",
   "execution_count": null,
   "id": "b56d3894-e3a7-4fb1-9088-83f2e2906473",
   "metadata": {},
   "outputs": [],
   "source": [
    "\"\"\"Q1. Which function is used to open a file? What are the different modes of opening a file? Explain each mode of file opening.\"\"\"\n",
    "\n",
    "'''The open() function is used to open a file. When opening a file, you can specify the mode in which the file should be opened. The different modes are:\n",
    "'r': Read mode is used when you only want to read the file. This is the default mode.\n",
    "'w': Write mode is used when you want to write to the file. If the file already exists, the content is truncated (deleted). If the file does not exist, \n",
    "a new file is created.\n",
    "'a': Append mode is used when you want to append data to the end of an existing file. If the file does not exist, a new file is created.\n",
    "'x': Exclusive creation mode is used when you want to create a new file but only if the file does not already exist. If the file exists, \n",
    "the FileExistsError is raised.\n",
    "'b': Binary mode is used when you want to read or write binary data. When used in combination with other modes, \n",
    "it should be appended as a suffix to the mode string.\n",
    "For example,'wb' for write in binary mode, or 'rb' for read in binary mode.\n",
    "'t': Text mode is used when you want to read or write text data. When used in combination with other modes, \n",
    "it should be appended as a suffix to the mode string.\n",
    "For example, 'wt' for write in text mode, or 'rt' for read in text mode.\n",
    "Here's an example of opening a file in read mode:'''\n",
    "    "
   ]
  },
  {
   "cell_type": "code",
   "execution_count": 1,
   "id": "a65a7479-999d-47e6-b6fa-2377bc4e0c07",
   "metadata": {},
   "outputs": [
    {
     "name": "stdout",
     "output_type": "stream",
     "text": [
      "<!-- ![ineuron-logo](https://user-images.githubusercontent.com/115527165/196935402-66c2496e-190d-4f67-9f6b-e42c06994999.png) -->\n",
      "# Jupyter lab\n",
      "- Execute the codes in each cell to get the output.\n",
      "\n"
     ]
    }
   ],
   "source": [
    "f = open(\"README.md\", \"r\")\n",
    "content = f.read()\n",
    "print(content)\n",
    "f.close()"
   ]
  },
  {
   "cell_type": "code",
   "execution_count": null,
   "id": "51464a91-4e95-4e18-9891-bb23764a049d",
   "metadata": {},
   "outputs": [],
   "source": [
    "\"\"\"Q2. Why close() function is used? Why is it important to close a file?\"\"\"\n",
    "\n",
    "'''The close() function is used to close a file in Python. It's important to close a file after we're done with it because it frees up resources on your computer\n",
    "and ensures that the file's data is saved correctly.\n",
    "\n",
    "When a file is opened, the operating system reserves a specific amount of memory to hold the file's contents and to keep track of where you are in \n",
    "the file (known as the file pointer). This memory is not freed until the file is closed, which means that if you open a large number of files \n",
    "without closing them, your computer could run out of memory.\n",
    "\n",
    "Furthermore, when you write to a file, the data is not immediately saved to the file on your hard drive. Instead, it's temporarily stored in a buffer\n",
    "(a small area of memory) and is only saved to the file when the buffer is flushed (that is, when it's full or when the file is closed). \n",
    "If we don't close the file, the data in the buffer may be lost if the program terminates before the buffer is flushed.\n",
    "\n",
    "Therefore, it's a best practice to always close a file after we're done with it, to avoid running out of memory and to ensure that the file's data is saved \n",
    "correctly. This can be done using the close() method, as shown in the example I provided in my previous answer. Another way to ensure that a file is closed\n",
    "is to use a with statement, which automatically closes the file for you when the block of code is finished, even if an exception is raised:'''"
   ]
  },
  {
   "cell_type": "code",
   "execution_count": 2,
   "id": "4ae7397c-a704-4079-87f3-3f4bf536334d",
   "metadata": {},
   "outputs": [
    {
     "name": "stdout",
     "output_type": "stream",
     "text": [
      "I want to become a Data Scientist\n"
     ]
    }
   ],
   "source": [
    "\"\"\"Q3. Write a python program to create a text file. Write ‘I want to become a Data Scientist’ in that file. \n",
    "Then close the file. Open this file and read the content of the file.\"\"\"\n",
    "# Create the file and write to it\n",
    "with open(\"sample.txt\", \"w\") as file:\n",
    "    file.write(\"I want to become a Data Scientist\")\n",
    "\n",
    "# Read the contents of the file\n",
    "with open(\"sample.txt\", \"r\") as file:\n",
    "    content = file.read()\n",
    "    print(content)\n",
    "file.close()"
   ]
  },
  {
   "cell_type": "code",
   "execution_count": 3,
   "id": "72acd99d-b096-45cc-9087-2c18a2b11273",
   "metadata": {},
   "outputs": [
    {
     "name": "stdout",
     "output_type": "stream",
     "text": [
      "I want to become a Data Scientist\n"
     ]
    }
   ],
   "source": [
    "\"\"\"Q4. Explain the following with python code: read(), readline() and readlines().\"\"\"\n",
    "\n",
    "'''read()\n",
    "The read() method reads the entire contents of a file and returns it as a string. \n",
    "You can specify the number of characters you want to read as an optional parameter.\n",
    "If you don't specify a number, the entire file is read. Here's an example:'''\n",
    "# Open a file for reading\n",
    "file = open('sample.txt', 'r')\n",
    "\n",
    "# Read the entire file\n",
    "content = file.read()\n",
    "\n",
    "# Close the file\n",
    "file.close()\n",
    "\n",
    "print(content)"
   ]
  },
  {
   "cell_type": "code",
   "execution_count": 4,
   "id": "2f86c21e-9d19-4f4d-9fc2-88dccd20d8ec",
   "metadata": {},
   "outputs": [
    {
     "name": "stdout",
     "output_type": "stream",
     "text": [
      "I want to become a Data Scientist\n",
      "\n"
     ]
    }
   ],
   "source": [
    "\"\"\"The readline() method reads one line at a time from a file. Each time you call readline(), it reads the next line in the file.\n",
    "If you reach the end of the file, readline() will return an empty string. Here's an example:\"\"\"\n",
    "# Open a file for reading\n",
    "file = open('sample.txt', 'r')\n",
    "\n",
    "# Read the first line of the file\n",
    "line1 = file.readline()\n",
    "\n",
    "# Read the second line of the file\n",
    "line2 = file.readline()\n",
    "\n",
    "# Close the file\n",
    "file.close()\n",
    "\n",
    "print(line1)\n",
    "print(line2)"
   ]
  },
  {
   "cell_type": "code",
   "execution_count": 5,
   "id": "91ae2996-b1f7-4924-853c-320bd66c2ef2",
   "metadata": {},
   "outputs": [
    {
     "name": "stdout",
     "output_type": "stream",
     "text": [
      "I want to become a Data Scientist\n"
     ]
    }
   ],
   "source": [
    "\"\"\"The readlines() method reads all the lines in a file and returns them as a list of strings. Each string in the list represents a line in the file.\n",
    "Here's an example:\"\"\"\n",
    "# Open a file for reading\n",
    "file = open('sample.txt', 'r')\n",
    "\n",
    "# Read all the lines in the file\n",
    "lines = file.readlines()\n",
    "\n",
    "# Close the file\n",
    "file.close()\n",
    "\n",
    "# Print each line in the list\n",
    "for line in lines:\n",
    "    print(line)"
   ]
  },
  {
   "cell_type": "code",
   "execution_count": 7,
   "id": "48e78513-a560-4dbb-a149-501f794ff2f6",
   "metadata": {},
   "outputs": [
    {
     "name": "stdout",
     "output_type": "stream",
     "text": [
      "I want to become a Data Scientist\n"
     ]
    }
   ],
   "source": [
    "\"\"\"Q5. Explain why with statement is used with open(). What is the advantage of using with statement and open() together?\"\"\"\n",
    "\n",
    "'''In Python, the with statement is used in conjunction with open() function when working with files. The with statement is used to ensure \n",
    "that a file is closed automatically after the block of code insidethe with statement is executed, regardless of whether the code finishes successfully or not. \n",
    "The with statement handles the closing of the file automatically, so you don't have to worry about it. The with statement opens the file and assigns \n",
    "it to the file variable. The block of code inside the with statement reads the contents of the file using the read() method, and prints it to the console. \n",
    "Once the block of code is done executing, the with statement automatically closes the file.\n",
    "The main advantage of using with statement and open() together is that it helps avoid common errors that can occur when working with files,\n",
    "such as forgetting to close a file after opening it or not handling exceptions properly. By using the with statement, you can ensure that the file is \n",
    "closed properly, even if an exception is raised during the execution of the block of code.\n",
    "In summary, using with statement and open() together provides a cleaner and safer way to work with files in Python, ensuring that files are properly opened and\n",
    "closed and making the code easier to read and maintain.'''\n",
    "\n",
    "with open('sample.txt', 'r') as file:\n",
    "    contents = file.read()\n",
    "    print(contents)"
   ]
  },
  {
   "cell_type": "code",
   "execution_count": 10,
   "id": "d5b700c8-8fa4-45af-9448-5c9b34248eda",
   "metadata": {},
   "outputs": [],
   "source": [
    "\"\"\"Q6. Explain the write() and writelines() functions. Give a suitable example.\"\"\"\n",
    "\n",
    "'''In Python, the write() and writelines() functions are used to write data to a file.\n",
    "write() function The write() function is used to write a string to a file. It takes a single argument, which is the string to be written to the file.\n",
    "Here's an example:'''\n",
    "\n",
    "# Open a file for writing\n",
    "file = open('example.txt', 'w')\n",
    "\n",
    "# Write a string to the file\n",
    "file.write('Hello, world!\\n')\n",
    "\n",
    "# Close the file\n",
    "file.close()"
   ]
  },
  {
   "cell_type": "code",
   "execution_count": 12,
   "id": "b981bd99-8687-4747-a9d2-d930322f3ecb",
   "metadata": {},
   "outputs": [],
   "source": [
    "\"\"\"writelines() function The writelines() function is used to write a list of strings to a file.\n",
    "It takes a single argument, which is a list of strings to be written to the file. \n",
    "Here's an example:\"\"\"\n",
    "\n",
    "# Open a file for writing\n",
    "file = open('example.txt', 'w')\n",
    "\n",
    "# Write a list of strings to the file\n",
    "lines = ['Line 1\\n', 'Line 2\\n', 'Line 3\\n']\n",
    "file.writelines(lines)\n",
    "\n",
    "# Close the file\n",
    "file.close()"
   ]
  }
 ],
 "metadata": {
  "kernelspec": {
   "display_name": "Python 3 (ipykernel)",
   "language": "python",
   "name": "python3"
  },
  "language_info": {
   "codemirror_mode": {
    "name": "ipython",
    "version": 3
   },
   "file_extension": ".py",
   "mimetype": "text/x-python",
   "name": "python",
   "nbconvert_exporter": "python",
   "pygments_lexer": "ipython3",
   "version": "3.10.8"
  }
 },
 "nbformat": 4,
 "nbformat_minor": 5
}
