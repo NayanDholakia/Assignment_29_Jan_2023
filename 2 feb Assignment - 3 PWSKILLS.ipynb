{
 "cells": [
  {
   "cell_type": "raw",
   "id": "cb13cc5f-f827-42fa-a498-4356d8a0774e",
   "metadata": {},
   "source": [
    "Q1. Explain with an example each when to use a for loop and a while loop."
   ]
  },
  {
   "cell_type": "code",
   "execution_count": null,
   "id": "436f5a5d-bb4d-4d71-849f-81e22eead288",
   "metadata": {},
   "outputs": [],
   "source": [
    "#The for loop in python is used when the number of iterations(repetition) is already known.\n",
    "#The for loop in puthon can be used in various ways. One simple and most common way is to iterate over a collection\n",
    "#The collection can be a list, set, range etc. \n",
    "#i is a variable that takes the value of the element that is being iterated."
   ]
  },
  {
   "cell_type": "code",
   "execution_count": 3,
   "id": "301ada83-d37d-4328-869a-7d19376826de",
   "metadata": {},
   "outputs": [
    {
     "name": "stdout",
     "output_type": "stream",
     "text": [
      "Value is: 1\n",
      "Value is: 2\n",
      "Value is: 3\n",
      "Value is: 4\n",
      "Value is: 5\n"
     ]
    }
   ],
   "source": [
    "#example 1 (using list)\n",
    "n_list = [1,2,3,4,5]\n",
    "for i in n_list:\n",
    "    print(\"Value is:\", i)"
   ]
  },
  {
   "cell_type": "code",
   "execution_count": 4,
   "id": "9bec811f-f0cc-4932-b993-f2c012989466",
   "metadata": {},
   "outputs": [
    {
     "name": "stdout",
     "output_type": "stream",
     "text": [
      "0\n",
      "1\n",
      "2\n",
      "3\n",
      "4\n"
     ]
    }
   ],
   "source": [
    "#example 2 (using range())\n",
    "for i in range(5):\n",
    "    print(i)\n"
   ]
  },
  {
   "cell_type": "raw",
   "id": "d9c9be70-719f-4e31-914a-e6da00610167",
   "metadata": {},
   "source": [
    "#The range() function returns a sequence of numbers,starting from 0 by default, and increments by 1(by default), and ends at the specified number"
   ]
  },
  {
   "cell_type": "code",
   "execution_count": 6,
   "id": "7b493692-9015-4da7-82fa-e5e67e522232",
   "metadata": {},
   "outputs": [
    {
     "name": "stdout",
     "output_type": "stream",
     "text": [
      "10\n",
      "15\n",
      "20\n",
      "25\n"
     ]
    }
   ],
   "source": [
    "#If we wanted to have a different starting value and a different increment value then \n",
    "#example 3\n",
    "for i in range(10,30,5):\n",
    "    print(i)"
   ]
  },
  {
   "cell_type": "code",
   "execution_count": 7,
   "id": "4a8215a2-bf30-40db-94d0-6aa06bcc2364",
   "metadata": {},
   "outputs": [
    {
     "name": "stdout",
     "output_type": "stream",
     "text": [
      "0\n",
      "1\n",
      "2\n",
      "3\n",
      "4\n",
      "5\n",
      "finished looping.\n"
     ]
    }
   ],
   "source": [
    "#For loop with else\n",
    "#The else keyword in a for loop specifies a block of code to be executed after the loop is finished\n",
    "for i in range(6):\n",
    "    print(i)\n",
    "else:\n",
    "    print(\"finished looping.\")"
   ]
  },
  {
   "cell_type": "code",
   "execution_count": 8,
   "id": "953b8988-e6e3-4178-96de-c43ea0924626",
   "metadata": {},
   "outputs": [
    {
     "name": "stdout",
     "output_type": "stream",
     "text": [
      "Hello world\n",
      "Hello world\n",
      "Hello world\n",
      "Hello world\n"
     ]
    }
   ],
   "source": [
    "#While loop\n",
    "#The while loop executes a set of statements as long as a condition is true\n",
    "#example 1\n",
    "i = 1 \n",
    "while i < 5:\n",
    "    print(\"Hello world\")\n",
    "    i = i + 1\n"
   ]
  },
  {
   "cell_type": "code",
   "execution_count": 9,
   "id": "cfc2d235-ac4c-427e-bf48-9bd94e6ea6bb",
   "metadata": {},
   "outputs": [
    {
     "name": "stdout",
     "output_type": "stream",
     "text": [
      "Hello world\n",
      "Hello world\n",
      "Hello world\n",
      "Hello world\n",
      "The execution has ended\n"
     ]
    }
   ],
   "source": [
    "#While loop with else statement\n",
    "#Example 2\n",
    "i = 1\n",
    "while i < 5:\n",
    "    print(\"Hello world\")\n",
    "    i = i + 1\n",
    "else:\n",
    "    print(\"The execution has ended\")"
   ]
  },
  {
   "cell_type": "code",
   "execution_count": 11,
   "id": "e78bf0b0-ccf5-4644-b8d9-8c8f91343cf1",
   "metadata": {},
   "outputs": [
    {
     "name": "stdout",
     "output_type": "stream",
     "text": [
      "a\n",
      "b\n",
      "c\n",
      "'c' encountered. Breaking the loop\n"
     ]
    }
   ],
   "source": [
    "#Using break in while loop\n",
    "#The break statement is used if you want to break the execution of a loop at a certain point\n",
    "#In the following example, we want to stop the loop when we encounter the \"c\" character \n",
    "n_list = ['a','b','c','d','e']\n",
    "for i in n_list:\n",
    "    print(i)\n",
    "    if i == 'c':\n",
    "        print(\"'c' encountered. Breaking the loop\")\n",
    "        break"
   ]
  },
  {
   "cell_type": "code",
   "execution_count": 2,
   "id": "fdad0d9a-181f-4670-a7d8-1773e99441c2",
   "metadata": {
    "tags": []
   },
   "outputs": [
    {
     "name": "stdout",
     "output_type": "stream",
     "text": [
      "a\n",
      "b\n",
      "d\n",
      "e\n"
     ]
    }
   ],
   "source": [
    "#continue keyword is used to skip a statement and continue with the rest of the loop for a particular iteration\n",
    "n_list = ['a','b','c','d','e']\n",
    "for i in n_list:\n",
    "    if i == 'c':\n",
    "        continue\n",
    "    print(i)\n",
    "       "
   ]
  },
  {
   "cell_type": "raw",
   "id": "043e6992-d67d-451b-9112-159bfde15fff",
   "metadata": {},
   "source": [
    "\"\"\"Q2. Write a python program to print the sum and product of the first 10 natural numbers using for\n",
    "and while loop."
   ]
  },
  {
   "cell_type": "code",
   "execution_count": 13,
   "id": "c163b513-627a-4864-8200-7e01d7eefdae",
   "metadata": {},
   "outputs": [
    {
     "name": "stdout",
     "output_type": "stream",
     "text": [
      "The sum of first 10 numbers are: 55\n"
     ]
    }
   ],
   "source": [
    "###Write a program to print the sum and product of the first 10 natural numbers using for and while loop.\n",
    "#sum of first 10 natural numbers using for loop\n",
    "sum = 0\n",
    "for i in range(1, 11):\n",
    "    sum += i\n",
    "print(\"The sum of first 10 numbers are:\",sum)"
   ]
  },
  {
   "cell_type": "code",
   "execution_count": 12,
   "id": "f73d5064-10e3-48f1-831f-fa1715f3f32c",
   "metadata": {},
   "outputs": [
    {
     "name": "stdout",
     "output_type": "stream",
     "text": [
      "The product of first 10 number is: 3628800\n"
     ]
    }
   ],
   "source": [
    "#product of first 10 natural numbers using for loop\n",
    "product = 1\n",
    "for i in range(1, 11):\n",
    "    product = i * product\n",
    "print(\"The product of first 10 number is:\",product)"
   ]
  },
  {
   "cell_type": "code",
   "execution_count": 11,
   "id": "066aca58-9cbd-425d-9a7c-fab6609f4025",
   "metadata": {},
   "outputs": [
    {
     "name": "stdout",
     "output_type": "stream",
     "text": [
      "The sum of first 10 numbers is: 55\n"
     ]
    }
   ],
   "source": [
    "num = 10\n",
    "if num < 0:\n",
    "    print(\"enter a positive number\")\n",
    "else:\n",
    "    sum = 0\n",
    "    while(num > 0):\n",
    "        sum += num\n",
    "        num -= 1\n",
    "    print(\"The sum of first 10 numbers is:\",sum)"
   ]
  },
  {
   "cell_type": "code",
   "execution_count": 9,
   "id": "2ba918b5-eb3e-4fbd-b740-8ed787990d8b",
   "metadata": {},
   "outputs": [
    {
     "name": "stdout",
     "output_type": "stream",
     "text": [
      "The product of first 10 numbers is: 3628800\n"
     ]
    }
   ],
   "source": [
    "num = 10\n",
    "if num < 0:\n",
    "    print(\"enter a positive number\")\n",
    "else:\n",
    "    sum = 1\n",
    "    while(num > 0):\n",
    "        sum *= num\n",
    "        num -= 1\n",
    "    print(\"The product of first 10 numbers is:\",sum)"
   ]
  },
  {
   "cell_type": "code",
   "execution_count": null,
   "id": "3b680892-3850-415f-95d8-4ad6435a3c78",
   "metadata": {},
   "outputs": [],
   "source": [
    "\"\"\"Q3. Create a python program to compute the electricity bill for a household.\n",
    "The per-unit charges in rupees are as follows: For the first 100 units, the user will be charged Rs. 4.5 per\n",
    "unit, for the next 100 units, the user will be charged Rs. 6 per unit, and for the next 100 units, the user will\n",
    "be charged Rs. 10 per unit, After 300 units and above the user will be charged Rs. 20 per unit.\n",
    "You are required to take the units of electricity consumed in a month from the user as input.\n",
    "Your program must pass this test case: when the unit of electricity consumed by the user in a month is\n",
    "310, the total electricity bill should be 2250.\"\"\""
   ]
  },
  {
   "cell_type": "code",
   "execution_count": 15,
   "id": "0a5358b6-fe93-4eaf-a88c-3ad4907761ba",
   "metadata": {},
   "outputs": [
    {
     "name": "stdin",
     "output_type": "stream",
     "text": [
      "Enter number of unit 310\n"
     ]
    },
    {
     "name": "stdout",
     "output_type": "stream",
     "text": [
      "The billing amount is: 2250 Rupees\n"
     ]
    }
   ],
   "source": [
    "\"\"\"Electricity bill generator\"\"\"\n",
    "n = (int(input(\"Enter number of unit\")))\n",
    "if n <= 100:\n",
    "    print(\"The billing amount is:\", n * 4.5, \"Rupees\")\n",
    "elif n >= 101 and n <=200:\n",
    "    print(\"The billing amount is:\", 450+((n - 100)*6), \"Rupees\")\n",
    "elif n >= 201 and n <= 300:\n",
    "    print(\"The billing amount is:\", 1050+((n - 200)*10), \"Rupees\")\n",
    "else:\n",
    "    print(\"The billing amount is:\", 2050+((n - 300)*20), \"Rupees\")"
   ]
  },
  {
   "cell_type": "code",
   "execution_count": 7,
   "id": "735c9c9c-9b05-47d7-81d6-18367ce44159",
   "metadata": {},
   "outputs": [
    {
     "name": "stdin",
     "output_type": "stream",
     "text": [
      "Enter the um of units comsumed:   310\n"
     ]
    },
    {
     "name": "stdout",
     "output_type": "stream",
     "text": [
      "The charges of electricity bill to be paid is: 2250.0\n"
     ]
    }
   ],
   "source": [
    "total_bill=0;\n",
    "units=int(input(\"Enter the um of units comsumed:  \"));\n",
    "i=1;\n",
    "while i<=units:\n",
    "    if i<=100:\n",
    "        total_bill+=4.5;\n",
    "    elif i>100 and i<=200:\n",
    "        total_bill+=6;\n",
    "    elif i>200 and i<=300:\n",
    "        total_bill+=10;\n",
    "    else:\n",
    "        total_bill+=20;\n",
    "    i+=1;\n",
    "\n",
    "print(\"The charges of electricity bill to be paid is:\",total_bill)"
   ]
  },
  {
   "cell_type": "code",
   "execution_count": null,
   "id": "b5c7d777-0a41-4a97-ac7e-f6bc4e98dd05",
   "metadata": {},
   "outputs": [],
   "source": [
    "\"\"\"Q4.Create a list of numbers from 1 to 100. Use for loop and while loop to calculate the cube of each\n",
    "number and if the cube of that number is divisible by 4 or 5 then append that number in a list and print\n",
    "that list.\"\"\""
   ]
  },
  {
   "cell_type": "code",
   "execution_count": 3,
   "id": "29a469fb-4abd-49f4-9829-281cfdcd4361",
   "metadata": {},
   "outputs": [
    {
     "name": "stdout",
     "output_type": "stream",
     "text": [
      "[8, 64, 125, 216, 512, 1000, 1728, 2744, 3375, 4096, 5832, 8000, 10648, 13824, 15625, 17576, 21952, 27000, 32768, 39304, 42875, 46656, 54872, 64000, 74088, 85184, 91125, 97336, 110592, 125000, 140608, 157464, 166375, 175616, 195112, 216000, 238328, 262144, 274625, 287496, 314432, 343000, 373248, 405224, 421875, 438976, 474552, 512000, 551368, 592704, 614125, 636056, 681472, 729000, 778688, 830584, 857375, 884736, 941192, 1000000]\n"
     ]
    }
   ],
   "source": [
    "result = []\n",
    "for i in range(1,101):\n",
    "    j = i**3\n",
    "    if(j%4 == 0 or j%5 == 0):\n",
    "        result.append(j)\n",
    "print(result)"
   ]
  },
  {
   "cell_type": "code",
   "execution_count": 14,
   "id": "3e70eb51-1566-48ef-9e57-b36cd914fbad",
   "metadata": {},
   "outputs": [
    {
     "data": {
      "text/plain": [
       "'Q5.Write a program to filter count vowels in the below-given string.\\nstring = \"I want to become a data scientist'"
      ]
     },
     "execution_count": 14,
     "metadata": {},
     "output_type": "execute_result"
    }
   ],
   "source": [
    "\"\"\"Q5.Write a program to filter count vowels in the below-given string.\n",
    "string = \"I want to become a data scientist\"\"\""
   ]
  },
  {
   "cell_type": "code",
   "execution_count": 6,
   "id": "b6059d39-c797-4120-905c-87312ad97bb6",
   "metadata": {},
   "outputs": [
    {
     "name": "stdout",
     "output_type": "stream",
     "text": [
      "The number of vowels in the given strings are: 12\n"
     ]
    }
   ],
   "source": [
    "string = \"I want to become a data scientist\"\n",
    "s1=[]\n",
    "for j in string:\n",
    "    if j=='a' or j=='e' or j=='i' or j=='o' or j=='u' or j=='A' or j=='E' or j=='I' or j=='O' or j=='U':\n",
    "        s1.append(j)\n",
    "print(\"The number of vowels in the given strings are:\",len(s1))"
   ]
  }
 ],
 "metadata": {
  "kernelspec": {
   "display_name": "Python 3 (ipykernel)",
   "language": "python",
   "name": "python3"
  },
  "language_info": {
   "codemirror_mode": {
    "name": "ipython",
    "version": 3
   },
   "file_extension": ".py",
   "mimetype": "text/x-python",
   "name": "python",
   "nbconvert_exporter": "python",
   "pygments_lexer": "ipython3",
   "version": "3.10.8"
  }
 },
 "nbformat": 4,
 "nbformat_minor": 5
}
