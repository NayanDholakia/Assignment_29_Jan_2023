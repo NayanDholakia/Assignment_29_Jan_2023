{
 "cells": [
  {
   "cell_type": "code",
   "execution_count": null,
   "id": "54ad1649-c02c-46d0-b2c3-ac68758b6de1",
   "metadata": {},
   "outputs": [],
   "source": [
    "\"\"\"Q1.Which keyword is used to create a function? Create a function to return a list of odd numbers in the\n",
    "range of 1 to 25.\"\"\""
   ]
  },
  {
   "cell_type": "code",
   "execution_count": null,
   "id": "8e44b004-9089-4d4e-b8ed-caac0fe8be6a",
   "metadata": {},
   "outputs": [],
   "source": [
    "#A function is a block of code which only runs when it is called.\n",
    "#You can pass data, known as parameters, into a function.\n",
    "#A function can return data as a result.\n",
    "\"\"\"In Python a function is defined using the 'def' keyword:\"\"\""
   ]
  },
  {
   "cell_type": "code",
   "execution_count": 48,
   "id": "170b1147-d600-45d2-ba9f-9235ef17ea52",
   "metadata": {},
   "outputs": [
    {
     "name": "stdout",
     "output_type": "stream",
     "text": [
      "[1, 3, 5, 7, 9, 11, 13, 15, 17, 19, 21, 23, 25]\n"
     ]
    }
   ],
   "source": [
    "def odd_numbers():\n",
    "    odd_number = []\n",
    "    for i in range(1, 26):\n",
    "        if i % 2 != 0:\n",
    "            odd_number.append(i)\n",
    "    return odd_number\n",
    "odd_numbers_list = odd_numbers()\n",
    "print(odd_numbers_list)                           "
   ]
  },
  {
   "cell_type": "code",
   "execution_count": 49,
   "id": "31e69d72-802b-47b4-aba5-2bafc5db954e",
   "metadata": {},
   "outputs": [
    {
     "data": {
      "text/plain": [
       "[1, 3, 5, 7, 9, 11, 13, 15, 17, 19, 21, 23, 25]"
      ]
     },
     "execution_count": 49,
     "metadata": {},
     "output_type": "execute_result"
    }
   ],
   "source": [
    "odd_numbers()"
   ]
  },
  {
   "cell_type": "code",
   "execution_count": null,
   "id": "5c06c40a-20de-4cc4-9119-50e86dfc1c96",
   "metadata": {},
   "outputs": [],
   "source": [
    "\"\"\"Q2. Why *args and **kwargs is used in some functions? Create a function each for *args and **kwargs\n",
    "to demonstrate their use.\"\"\""
   ]
  },
  {
   "cell_type": "code",
   "execution_count": null,
   "id": "37ed75ad-a9de-4c35-a7b2-0a4ba370bb02",
   "metadata": {},
   "outputs": [],
   "source": [
    "#Python *args\n",
    "\"\"\"As in the above example we are not sure about the number of arguments that can be passed to a function.\n",
    "Python has *args which allow us to pass the variable number of non keyword arguments to function.\n",
    "In the function, we should use an asterisk * before the parameter name to pass variable length arguments.\n",
    "The arguments are passed as a tuple and these passed arguments make tuple inside the function with\n",
    "same name as the parameter excluding asterisk *.\"\"\""
   ]
  },
  {
   "cell_type": "code",
   "execution_count": 2,
   "id": "e7fbaef7-f865-401c-808e-6d85e24e491d",
   "metadata": {},
   "outputs": [
    {
     "name": "stdout",
     "output_type": "stream",
     "text": [
      "Sum: 14\n",
      "Sum: 32\n",
      "Sum: 32\n"
     ]
    }
   ],
   "source": [
    "#Using *args to pass the variable length arguments to the function\n",
    "def add(*num):\n",
    "    sum = 0\n",
    "    \n",
    "    for n in num:\n",
    "        sum = sum + n\n",
    "\n",
    "    print(\"Sum:\",sum)\n",
    "\n",
    "add(8,6)\n",
    "add(5,7,9,11)\n",
    "add(4,5,6,8,9)"
   ]
  },
  {
   "cell_type": "code",
   "execution_count": null,
   "id": "0d837881-1f49-47df-bd49-ceb08694e96e",
   "metadata": {},
   "outputs": [],
   "source": [
    "\"\"\"In the above program, we used *num as a parameter which allows us \n",
    "to pass variable length argument list to the add() function. \n",
    "Inside the function, we have a loop which adds the passed argument and prints the result.\n",
    "We passed 3 different tuples with variable length as an argument to the function.\"\"\""
   ]
  },
  {
   "cell_type": "code",
   "execution_count": null,
   "id": "bd01cdf0-a153-441a-94f4-c53e97ce55d2",
   "metadata": {},
   "outputs": [],
   "source": [
    "#Python **kwargs\n",
    "\"\"\"Python passes variable length non keyword argument to function using *args but we cannot use this to pass keyword argument. \n",
    "For this problem Python has got a solution called **kwargs, \n",
    "it allows us to pass the variable length of keyword arguments to the function.\n",
    "In the function, we use the double asterisk ** before the parameter name to denote this type of argument. \n",
    "The arguments are passed as a dictionary and these arguments make a\n",
    "dictionary inside function with name same as the parameter excluding double asterisk **.\"\"\""
   ]
  },
  {
   "cell_type": "code",
   "execution_count": 4,
   "id": "fba674c3-d5a0-4c07-a473-5636b06c5838",
   "metadata": {},
   "outputs": [
    {
     "name": "stdout",
     "output_type": "stream",
     "text": [
      "\n",
      "Data type of argument: <class 'dict'>\n",
      "Firstname is Meera\n",
      "Lastname is Ahuja\n",
      "Age is 22\n",
      "Phone is 8888844423\n",
      "\n",
      "Data type of argument: <class 'dict'>\n",
      "Firstname is Rony\n",
      "Lastname is jack\n",
      "Email is jackrony@nomail.com\n",
      "Country is India\n",
      "Age is 26\n",
      "Phone is 9995554442\n"
     ]
    }
   ],
   "source": [
    "#Using **kwargs to pass the variable keyword arguments to the function\n",
    "def intro(**data):\n",
    "    print(\"\\nData type of argument:\",type(data))\n",
    "\n",
    "    for key, value in data.items():\n",
    "        print(\"{} is {}\".format(key,value))\n",
    "\n",
    "intro(Firstname=\"Meera\", Lastname=\"Ahuja\", Age=22, Phone=8888844423)\n",
    "intro(Firstname=\"Rony\", Lastname=\"jack\", Email=\"jackrony@nomail.com\", Country=\"India\", Age=26, Phone=9995554442)"
   ]
  },
  {
   "cell_type": "code",
   "execution_count": null,
   "id": "68c175e0-1e26-43dd-8dd2-c62595047595",
   "metadata": {},
   "outputs": [],
   "source": [
    "\"\"\"In the above program, we have a function intro() with **data as a parameter.\n",
    "We passed two dictionaries with variable argument length to the intro() function. \n",
    "We have for loop inside intro() function which works on the data of passed dictionary \n",
    "and prints the value of the dictionary.\"\"\""
   ]
  },
  {
   "cell_type": "code",
   "execution_count": null,
   "id": "5434edc7-517d-4be4-be5f-b4caeee39400",
   "metadata": {},
   "outputs": [],
   "source": [
    "\"\"\"Q3. What is an iterator in python? Name the method used to initialise the iterator object and the method\n",
    "used for iteration. Use these methods to print the first five elements of the given list\n",
    "[2, 4, 6, 8, 10, 12, 14,16, 18, 20].\"\"\""
   ]
  },
  {
   "cell_type": "code",
   "execution_count": null,
   "id": "47be706f-589c-449e-bd6c-19e139c1fc30",
   "metadata": {},
   "outputs": [],
   "source": [
    "#An iterator is an object that contains a countable number of values.\n",
    "#The method __iter()__ is the iterator method and is used to initialize an iterator.\n",
    "#In Python, the List, Tuple, Set, and Dict are all iterable objects. \n",
    "#These iterable objects have an iter() method which is used to get an iterator.\n",
    "#It also considered the string object an iterable object in Python.\n",
    "#This iterator method in Python uses another method __next__ () to return the next value of the iterator.\n",
    "#When we reach the end and there is no more data to be returned, we will get the StopIteration Exception."
   ]
  },
  {
   "cell_type": "code",
   "execution_count": 6,
   "id": "0202b8d3-1ad1-4d5f-8cc5-bf08aabcc8b1",
   "metadata": {},
   "outputs": [
    {
     "name": "stdout",
     "output_type": "stream",
     "text": [
      "2\n",
      "4\n",
      "6\n",
      "8\n",
      "10\n"
     ]
    }
   ],
   "source": [
    "list = [2, 4, 6, 8, 10, 12, 14,16, 18, 20]\n",
    "# initialize the iter object\n",
    "list_iter = iter(list)\n",
    "\n",
    "#us the iter object and print first five element of list\n",
    "for i in range(5):\n",
    "    print(next(list_iter))"
   ]
  },
  {
   "cell_type": "code",
   "execution_count": null,
   "id": "38c501db-0659-4f5e-9ee4-b8ec2a443f01",
   "metadata": {},
   "outputs": [],
   "source": [
    "\"\"\"Q4. What is a generator function in python? Why yield keyword is used? Give an example of a generator\n",
    "function.\"\"\""
   ]
  },
  {
   "cell_type": "code",
   "execution_count": null,
   "id": "5846efad-e419-4678-9089-34631aa25939",
   "metadata": {},
   "outputs": [],
   "source": [
    "\"\"\"In Python, similar to defining a normal function, we can define a generator function using the def keyword,\n",
    "but instead of the return statement we use the yield statement.\"\"\"\n",
    "#the yield keyword is used to produce a value from the generator.\n",
    "#When the generator function is called,it does not execute the function body immediately.\n",
    "#Instead, it returns a generator object that can be iterated over to produce the values."
   ]
  },
  {
   "cell_type": "code",
   "execution_count": 10,
   "id": "f60be444-93f5-41ff-94c4-1eecca876c05",
   "metadata": {},
   "outputs": [
    {
     "name": "stdout",
     "output_type": "stream",
     "text": [
      "0\n",
      "1\n",
      "2\n"
     ]
    }
   ],
   "source": [
    "def my_generator(n):\n",
    "\n",
    "    # initialize counter\n",
    "    value = 0\n",
    "\n",
    "    # loop until counter is less than n\n",
    "    while value < n:\n",
    "\n",
    "        # produce the current value of the counter\n",
    "        yield value\n",
    "\n",
    "        # increment the counter\n",
    "        value += 1\n",
    "\n",
    "# iterate over the generator object produced by my_generator\n",
    "for value in my_generator(3):\n",
    "\n",
    "    # print each value produced by generator\n",
    "    print(value)"
   ]
  },
  {
   "cell_type": "code",
   "execution_count": null,
   "id": "1ce513f4-69a2-4c53-85f1-e10d5f7115e5",
   "metadata": {},
   "outputs": [],
   "source": [
    "\"\"\"Q5. Create a generator function for prime numbers less than 1000. Use the next() method to print the\n",
    "first 20 prime numbers.\"\"\""
   ]
  },
  {
   "cell_type": "code",
   "execution_count": 11,
   "id": "25ea0568-107a-49ee-a7ef-2ac5b64855c8",
   "metadata": {},
   "outputs": [
    {
     "name": "stdout",
     "output_type": "stream",
     "text": [
      "2\n",
      "3\n",
      "5\n",
      "7\n",
      "11\n",
      "13\n",
      "17\n",
      "19\n",
      "23\n",
      "29\n",
      "31\n",
      "37\n",
      "41\n",
      "43\n",
      "47\n",
      "53\n",
      "59\n",
      "61\n",
      "67\n",
      "71\n"
     ]
    }
   ],
   "source": [
    "def generate_primes():\n",
    "    # Generate prime numbers less than 1000\n",
    "    for num in range(2, 1000):\n",
    "        is_prime = True\n",
    "        for i in range(2, num):\n",
    "            if num % i == 0:\n",
    "                is_prime = False\n",
    "                break\n",
    "        if is_prime:\n",
    "            yield num\n",
    "primes = generate_primes()\n",
    "for i in range(20):\n",
    "    print(next(primes))\n"
   ]
  },
  {
   "cell_type": "code",
   "execution_count": null,
   "id": "ee240694-33ad-437a-b1b1-0b1c7667c548",
   "metadata": {},
   "outputs": [],
   "source": [
    "\"\"\"Q6. Write a python program to print the first 10 Fibonacci numbers using a while loop.\"\"\""
   ]
  },
  {
   "cell_type": "code",
   "execution_count": 26,
   "id": "3ae378f7-be63-494a-a97c-49360eeb188b",
   "metadata": {},
   "outputs": [
    {
     "name": "stdout",
     "output_type": "stream",
     "text": [
      "0\n",
      "1\n",
      "1\n",
      "2\n",
      "3\n",
      "5\n",
      "8\n",
      "13\n",
      "21\n",
      "34\n"
     ]
    }
   ],
   "source": [
    "Number = 10\n",
    "\n",
    "# Initializing First and Second Values\n",
    "i = 0\n",
    "First_Value = 0\n",
    "Second_Value = 1\n",
    "           \n",
    "# Find & Displaying\n",
    "while(i < Number):\n",
    "    if(i <= 1):\n",
    "        Next = i\n",
    "    else:\n",
    "        Next = First_Value + Second_Value\n",
    "        First_Value = Second_Value\n",
    "        Second_Value = Next\n",
    "    print(Next)\n",
    "    i = i + 1"
   ]
  },
  {
   "cell_type": "code",
   "execution_count": null,
   "id": "92861474-dfe7-46d0-a7de-9251b2fd1f48",
   "metadata": {},
   "outputs": [],
   "source": [
    "\"\"\"Q7. Write a List Comprehension to iterate through the given string: ‘pwskills’.\n",
    "Expected output: ['p', 'w', 's', 'k', 'i', 'l', 'l', 's']\"\"\""
   ]
  },
  {
   "cell_type": "code",
   "execution_count": 14,
   "id": "ae03efd4-afd2-4b0c-875f-daffde036b36",
   "metadata": {},
   "outputs": [
    {
     "data": {
      "text/plain": [
       "['p', 'w', 's', 'k', 'i', 'l', 'l', 's']"
      ]
     },
     "execution_count": 14,
     "metadata": {},
     "output_type": "execute_result"
    }
   ],
   "source": [
    "word = 'pwskills'\n",
    "[each_letter for each_letter in word]"
   ]
  },
  {
   "cell_type": "code",
   "execution_count": null,
   "id": "45360bea-7b15-4058-bcfb-3fabd2f1f199",
   "metadata": {},
   "outputs": [],
   "source": [
    "\"\"\"Q8. Write a python program to check whether a given number is Palindrome or not using a while loop.\"\"\""
   ]
  },
  {
   "cell_type": "code",
   "execution_count": 15,
   "id": "817ee2b2-426d-4bb7-9d9f-37633b9e89a7",
   "metadata": {},
   "outputs": [
    {
     "name": "stdout",
     "output_type": "stream",
     "text": [
      "Number is palindrome\n"
     ]
    }
   ],
   "source": [
    "def palindrome(num):\n",
    "    temp = num\n",
    "    rev = 0\n",
    "    while temp > 0:\n",
    "        dig = temp % 10\n",
    "        rev = (rev*10) + dig\n",
    "\n",
    "        temp //= 10\n",
    "\n",
    "    if num == rev:\n",
    "        print(\"Number is palindrome\")\n",
    "    else:\n",
    "        print(\"Number is NOT palindrome\")\n",
    "\n",
    "palindrome(1221)"
   ]
  },
  {
   "cell_type": "code",
   "execution_count": 17,
   "id": "716118b2-8a8c-4643-8d11-8d492e68c718",
   "metadata": {},
   "outputs": [
    {
     "name": "stdout",
     "output_type": "stream",
     "text": [
      "Number is NOT palindrome\n"
     ]
    }
   ],
   "source": [
    "palindrome(456)"
   ]
  },
  {
   "cell_type": "code",
   "execution_count": 16,
   "id": "e2918b72-dbe4-4f52-b36f-9406d6f5bfec",
   "metadata": {},
   "outputs": [
    {
     "name": "stdout",
     "output_type": "stream",
     "text": [
      "Number is palindrome\n"
     ]
    }
   ],
   "source": [
    "palindrome(1331)"
   ]
  },
  {
   "cell_type": "code",
   "execution_count": null,
   "id": "1b742e56-13c8-4e87-b1aa-4bb5aeb5cbce",
   "metadata": {},
   "outputs": [],
   "source": [
    "\"\"\"Q9. Write a code to print odd numbers from 1 to 100 using list comprehension.\"\"\"\n",
    "#Note: Use a list comprehension to create a list from 1 to 100 and use another List comprehension to filterout odd numbers."
   ]
  },
  {
   "cell_type": "code",
   "execution_count": 25,
   "id": "9a227965-0b14-4c80-ac58-378867a9bf21",
   "metadata": {},
   "outputs": [
    {
     "name": "stdout",
     "output_type": "stream",
     "text": [
      "[1, 3, 5, 7, 9, 11, 13, 15, 17, 19, 21, 23, 25, 27, 29, 31, 33, 35, 37, 39, 41, 43, 45, 47, 49, 51, 53, 55, 57, 59, 61, 63, 65, 67, 69, 71, 73, 75, 77, 79, 81, 83, 85, 87, 89, 91, 93, 95, 97, 99]\n"
     ]
    }
   ],
   "source": [
    "odd_list = [element for element in range(1, 101) if element % 2 == 1 ]\n",
    "print(odd_list)"
   ]
  }
 ],
 "metadata": {
  "kernelspec": {
   "display_name": "Python 3 (ipykernel)",
   "language": "python",
   "name": "python3"
  },
  "language_info": {
   "codemirror_mode": {
    "name": "ipython",
    "version": 3
   },
   "file_extension": ".py",
   "mimetype": "text/x-python",
   "name": "python",
   "nbconvert_exporter": "python",
   "pygments_lexer": "ipython3",
   "version": "3.10.8"
  }
 },
 "nbformat": 4,
 "nbformat_minor": 5
}
