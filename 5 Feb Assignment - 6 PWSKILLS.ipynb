{
 "cells": [
  {
   "cell_type": "code",
   "execution_count": null,
   "id": "2dae58f8-4d9f-4fb6-b381-147038c425ef",
   "metadata": {},
   "outputs": [],
   "source": [
    "\"\"\"Q1. Explain Class and Object with respect to Object-Oriented Programming. Give a suitable example.\"\"\""
   ]
  },
  {
   "cell_type": "code",
   "execution_count": null,
   "id": "2927d4f9-8995-4d8a-aca5-cc34ce10bfd0",
   "metadata": {},
   "outputs": [],
   "source": [
    "#Python is an object oriented programming language.\n",
    "#It is a user-defined data type, that holds its own data members and member functions, which can be accessed and used by \n",
    "#creating an instance of that class.\n",
    "#When a class is created, no memory is allocated.\n",
    "#The class has to be declared first and only once.\n",
    "#A class can not be manipulated as they are not available in the memory.\n",
    "#To create a class, use the keyword \"class\":"
   ]
  },
  {
   "cell_type": "code",
   "execution_count": null,
   "id": "29bb2951-e8fa-464b-a98c-877f36f56c5b",
   "metadata": {},
   "outputs": [],
   "source": [
    "#Object is an instance of a class. All data members and member functions of the class can be accessed with the help of objects.\n",
    "#Objects are allocated memory space whenever they are created\n",
    "#An object is created many times as per requirement.\n",
    "#Objects can be manipulated."
   ]
  },
  {
   "cell_type": "code",
   "execution_count": 10,
   "id": "1c0959b9-5cfe-4c4a-9f0e-0a9e547fba15",
   "metadata": {},
   "outputs": [],
   "source": [
    "#Example \n",
    "class car:\n",
    "    name = \"\"\n",
    "    gear = 0\n",
    "#Here,'Car' is the name of the class\n",
    "#name/gear is variables inside the class with default values \"\" and 0 respectively.\n",
    "#Note: The variables inside a class are called attributes."
   ]
  },
  {
   "cell_type": "code",
   "execution_count": 11,
   "id": "69b5ec0e-693e-4f3f-9bad-8f5ad5652fc8",
   "metadata": {},
   "outputs": [],
   "source": [
    "#suppose Car is a class then we can create objects like Car1, etc from the class\n",
    "class car:\n",
    "    name = \"\"\n",
    "    gear = 0\n",
    "\n",
    "# create objects of class\n",
    "car1 = car()\n",
    "#Here, car1 is the object of the class. Now, we can use this object to access the class attributes."
   ]
  },
  {
   "cell_type": "code",
   "execution_count": 12,
   "id": "1aafa9fd-46c0-4c59-91a1-db2b24661d46",
   "metadata": {},
   "outputs": [
    {
     "name": "stdout",
     "output_type": "stream",
     "text": [
      "Name: Tata Nexon, Gears: 5 \n"
     ]
    }
   ],
   "source": [
    "#We use the '.' notation to access the attributes of a class. For example,\n",
    "class car:\n",
    "    name = \"\"\n",
    "    gear = 0\n",
    "\n",
    "# create object of class\n",
    "car1 = car()\n",
    "\n",
    "# access attributes and assign new values\n",
    "car1.gear = 5\n",
    "car1.name = \"Tata Nexon\"\n",
    "\n",
    "print(f\"Name: {car1.name}, Gears: {car1.gear} \")"
   ]
  },
  {
   "cell_type": "code",
   "execution_count": null,
   "id": "f618652e-72eb-4209-b3aa-603f8069e49f",
   "metadata": {},
   "outputs": [],
   "source": [
    "#Here, we have used car1.name and car1.gear to change and access the value of name and gear attribute respectively.\n",
    "\"\"\"In the above example, we have defined the class named car with two attributes: name and gear.\n",
    "We have also created an object car1 of the class car.\n",
    "Finally, we have accessed and modified the attributes of an object using the '.' notation.\"\"\""
   ]
  },
  {
   "cell_type": "code",
   "execution_count": null,
   "id": "302a51d9-9d7e-4268-86c2-c4912e13746a",
   "metadata": {},
   "outputs": [],
   "source": [
    "\"\"\"Q2. Name the four pillars of OOPs.\"\"\""
   ]
  },
  {
   "cell_type": "code",
   "execution_count": null,
   "id": "14eccec2-41af-4912-b97b-dac05ff2c7f3",
   "metadata": {},
   "outputs": [],
   "source": [
    "#The four pillars of object-oriented programming (OOP) are:\n",
    "\"\"\"Abstraction: Abstraction refers to the practice of exposing only the relevant information \n",
    "and hiding the complexity of the implementation.\n",
    "It allows the user to focus on what the object does rather than how it does it.\"\"\"\n",
    "\n",
    "\"\"\"Encapsulation: Encapsulation is the mechanism of wrapping the data (variables) and functions that operate on that\n",
    "data within a single unit or object. \n",
    "This protects the data from accidental corruption and provides a secure way to access the data.\"\"\"\n",
    "\n",
    "\"\"\"Inheritance: Inheritance is a mechanism where a new class can be derived from an existing class.\n",
    "The derived class inherits all the attributes and behaviors of the parent class and can also have \n",
    "its own attributes and behaviors.\"\"\"\n",
    "\n",
    "\"\"\"Polymorphism: Polymorphism is the ability of an object to take on multiple forms.\n",
    "This is achieved in OOP by defining methods with the same name in different classes that are related by inheritance.\n",
    "When a method is called on an object, the correct implementation of that method is executed based on the object's actual class.\"\"\""
   ]
  },
  {
   "cell_type": "code",
   "execution_count": null,
   "id": "d52a84e3-aa45-45ce-8f53-df3e6d77a228",
   "metadata": {},
   "outputs": [],
   "source": [
    "\"\"\"Q3. Explain why the __init__() function is used. Give a suitable example.\"\"\""
   ]
  },
  {
   "cell_type": "code",
   "execution_count": null,
   "id": "db0d320a-4f6b-4d97-a650-49b9c11b119c",
   "metadata": {},
   "outputs": [],
   "source": [
    "\"\"\"You will create a class of name Car and then create objects of different cars. \n",
    "When creating a class object, we pass different things to it. In the case of cars,\n",
    "it will be company model, year of manufacture, etc. So, inside the class,\n",
    "we need a function that can assign all the arguments passed while creating the object to the newly created object. \n",
    "Or you might want to print something whenever a new car is added to your program.\n",
    "There is a method called __init__() for this task. \n",
    "This method is called automatically whenever a new object of a class is created. \n",
    "This type of function is also known as the constructor function.\n",
    "A constructor function is a function that is called every time a new class object is created.\"\"\""
   ]
  },
  {
   "cell_type": "code",
   "execution_count": 13,
   "id": "40b60001-ddcc-404e-ba2f-ce6dba1e1b7d",
   "metadata": {},
   "outputs": [
    {
     "name": "stdout",
     "output_type": "stream",
     "text": [
      "From: London\n",
      "To_city: India\n"
     ]
    }
   ],
   "source": [
    "#example\n",
    "class Trip:\n",
    "    def __init__(self, to_city, from_city):\n",
    "        self.to_city = to_city\n",
    "        self.from_city = from_city\n",
    " \n",
    "    def holiday(self):\n",
    "     return (\"From: \" + self.from_city + \"\\nTo_city: \" + self.to_city)\n",
    " \n",
    "T = Trip('Ahmedabad', 'Vadodara')\n",
    "print(T.holiday())"
   ]
  },
  {
   "cell_type": "code",
   "execution_count": null,
   "id": "3d746a64-e416-4d3d-9629-2ecf4b23d353",
   "metadata": {},
   "outputs": [],
   "source": [
    "#explanation\n",
    "\"\"\"In the above example, a class Trip is created, and an object ‘T’ is created to invoke the methods and attributes.\n",
    "As soon as the object is created,__init__ method is initialized with values 'Ahmedabad' and 'Vadodara' which are assigned \n",
    "to, to_city and from_city respectively. The self keyword represents the current instance of the object.So when \n",
    "the holiday() method is run, it prints out the values of from_city and to_city, which are London and India,respectively.\"\"\""
   ]
  },
  {
   "cell_type": "code",
   "execution_count": null,
   "id": "860d75eb-f99e-4321-b4f0-4c7eca603977",
   "metadata": {},
   "outputs": [],
   "source": [
    "\"\"\"Q4. Why self is used in OOPs?\"\"\""
   ]
  },
  {
   "cell_type": "code",
   "execution_count": 14,
   "id": "2cf9249e-a8a9-434f-8b66-c2fde271ae30",
   "metadata": {},
   "outputs": [
    {
     "name": "stdout",
     "output_type": "stream",
     "text": [
      "No. of Legs: 6\n",
      "No. of Wings 2\n"
     ]
    }
   ],
   "source": [
    "\"\"\"The 'self' parameter is a reference to the current instance of the class,\n",
    "and is used to access variables that belongs to the class.\n",
    "It does not have to be named 'self' , you can call it whatever you like, \n",
    "but it has to be the first parameter of any function in the class:\"\"\"\n",
    "class Insects:\n",
    "    def __init__(self, legs, wings):\n",
    "        self.legs = legs\n",
    "        self.wings = wings\n",
    " \n",
    "    def looks(self):\n",
    "        return (\"No. of Legs: \" + self.legs + \"\\nNo. of Wings \" + self.wings)\n",
    " \n",
    "I = Insects('6', '2')\n",
    "print(I.looks())\n"
   ]
  },
  {
   "cell_type": "code",
   "execution_count": 15,
   "id": "678e1717-616a-4890-a7b4-6bd40f4da058",
   "metadata": {},
   "outputs": [
    {
     "name": "stdout",
     "output_type": "stream",
     "text": [
      "No. of Legs: 6\n",
      "No. of Wings 2\n"
     ]
    }
   ],
   "source": [
    "class Insects:\n",
    "    def __init__(pwskill, legs, wings):\n",
    "        pwskill.legs = legs\n",
    "        pwskill.wings = wings\n",
    " \n",
    "    def looks(pwskill):\n",
    "        return (\"No. of Legs: \" + pwskill.legs + \"\\nNo. of Wings \" + pwskill.wings)\n",
    " \n",
    "I = Insects('6', '2')\n",
    "print(I.looks())"
   ]
  },
  {
   "cell_type": "code",
   "execution_count": null,
   "id": "a476dfc3-1e72-4dbb-b346-aac69d1d2059",
   "metadata": {},
   "outputs": [],
   "source": [
    "\"\"\"Q5. What is inheritance? Give an example for each type of inheritance.\"\"\""
   ]
  },
  {
   "cell_type": "code",
   "execution_count": null,
   "id": "eae5e3cf-1371-4c34-a494-2698edda9a01",
   "metadata": {},
   "outputs": [],
   "source": [
    "\"\"\"Inheritance allows us to define a class that inherits all the methods and properties from another class.\n",
    "Parent class is the class being inherited from, also called base class.\n",
    "Child class is the class that inherits from another class, also called derived class.\"\"\""
   ]
  },
  {
   "cell_type": "code",
   "execution_count": 19,
   "id": "0ac6d2e7-64cb-470a-8dff-2a04010b481e",
   "metadata": {},
   "outputs": [
    {
     "name": "stdout",
     "output_type": "stream",
     "text": [
      "Inside Vehicle class\n",
      "Inside Car class\n"
     ]
    }
   ],
   "source": [
    "#Single inheritance: In this type, a derived class inherits from only one base class.\n",
    "# Python program to show single inheritance\n",
    " \n",
    "# Base class\n",
    "class Vehicle:\n",
    "    def Vehicle_info(self):\n",
    "        print('Inside Vehicle class')\n",
    "\n",
    "# derived class\n",
    "class Car(Vehicle):\n",
    "    def car_info(self):\n",
    "        print('Inside Car class')\n",
    "\n",
    "# Create object of Car\n",
    "car = Car()\n",
    "\n",
    "# access Vehicle's info using car object\n",
    "car.Vehicle_info()\n",
    "car.car_info()\n"
   ]
  },
  {
   "cell_type": "code",
   "execution_count": 20,
   "id": "19025769-777a-48db-94ed-907ed285608d",
   "metadata": {},
   "outputs": [
    {
     "name": "stdout",
     "output_type": "stream",
     "text": [
      "Inside Person class\n",
      "Name: Jackie Age: 29\n",
      "Inside Company class\n",
      "Name: Google location: Pwskills\n",
      "Inside Employee class\n",
      "Salary: 120000 Skill: Data Analytics\n"
     ]
    }
   ],
   "source": [
    "#Multiple inheritance, one child class can inherit from multiple parent classes.\n",
    "#So here is one child class and multiple parent classes.\n",
    "# Parent class 1\n",
    "class Person:\n",
    "    def person_info(self, name, age):\n",
    "        print('Inside Person class')\n",
    "        print('Name:', name, 'Age:', age)\n",
    "\n",
    "# Parent class 2\n",
    "class Company:\n",
    "    def company_info(self, company_name, location):\n",
    "        print('Inside Company class')\n",
    "        print('Name:', company_name, 'location:', location)\n",
    "\n",
    "# Child class\n",
    "class Employee(Person, Company):\n",
    "    def Employee_info(self, salary, skill):\n",
    "        print('Inside Employee class')\n",
    "        print('Salary:', salary, 'Skill:', skill)\n",
    "\n",
    "# Create object of Employee\n",
    "emp = Employee()\n",
    "\n",
    "# access data\n",
    "emp.person_info('Jackie', 29)\n",
    "emp.company_info('Google', 'Pwskills')\n",
    "emp.Employee_info(120000, 'Data Analytics')\n",
    "\n",
    "\"\"\"In the above example, we created two parent classes Person and Company respectively. \n",
    "Then we create one child called Employee which inherit from Person and Company classes.\"\"\""
   ]
  },
  {
   "cell_type": "code",
   "execution_count": 21,
   "id": "7f6eaa39-4a89-4fc1-b0ff-1ca5f8e8c72d",
   "metadata": {},
   "outputs": [
    {
     "name": "stdout",
     "output_type": "stream",
     "text": [
      "Inside Vehicle class\n",
      "Inside Car class\n",
      "Inside SportsCar class\n"
     ]
    }
   ],
   "source": [
    "#Multilevel inheritance, a class inherits from a child class or derived class.\n",
    "#Suppose three classes A, B, C. A is the superclass, B is the child class of A, C is the child class of B. \n",
    "#In other words, we can say a chain of classes is called multilevel inheritance.\n",
    "# Base class\n",
    "class Vehicle:\n",
    "    def Vehicle_info(self):\n",
    "        print('Inside Vehicle class')\n",
    "\n",
    "# Child class\n",
    "class Car(Vehicle):\n",
    "    def car_info(self):\n",
    "        print('Inside Car class')\n",
    "\n",
    "# Child class\n",
    "class SportsCar(Car):\n",
    "    def sports_car_info(self):\n",
    "        print('Inside SportsCar class')\n",
    "\n",
    "# Create object of SportsCar\n",
    "s_car = SportsCar()\n",
    "\n",
    "# access Vehicle's and Car info using SportsCar object\n",
    "s_car.Vehicle_info()\n",
    "s_car.car_info()\n",
    "s_car.sports_car_info()\n",
    "\n",
    "\"\"\"In the above example, we can see there are three classes named Vehicle, Car, SportsCar. \n",
    "Vehicle is the superclass, Car is a child of Vehicle, SportsCar is a child of Car. So we can see the chaining of classes.\"\"\""
   ]
  },
  {
   "cell_type": "code",
   "execution_count": 22,
   "id": "daf25832-b12e-4f3c-a496-c1fded869df4",
   "metadata": {},
   "outputs": [
    {
     "name": "stdout",
     "output_type": "stream",
     "text": [
      "This is Vehicle\n",
      "Car name is: BMW\n",
      "This is Vehicle\n",
      "Truck name is: Ford\n"
     ]
    }
   ],
   "source": [
    "#In Hierarchical inheritance, more than one child class is derived from a single parent class.\n",
    "#In other words, we can say one parent class and multiple child classes.\n",
    "\n",
    "class Vehicle:\n",
    "    def info(self):\n",
    "        print(\"This is Vehicle\")\n",
    "\n",
    "class Car(Vehicle):\n",
    "    def car_info(self, name):\n",
    "        print(\"Car name is:\", name)\n",
    "\n",
    "class Truck(Vehicle):\n",
    "    def truck_info(self, name):\n",
    "        print(\"Truck name is:\", name)\n",
    "\n",
    "obj1 = Car()\n",
    "obj1.info()\n",
    "obj1.car_info('BMW')\n",
    "\n",
    "obj2 = Truck()\n",
    "obj2.info()\n",
    "obj2.truck_info('Ford')"
   ]
  },
  {
   "cell_type": "code",
   "execution_count": null,
   "id": "2eb0965e-49e0-422f-a591-3a3f3458205b",
   "metadata": {},
   "outputs": [],
   "source": []
  }
 ],
 "metadata": {
  "kernelspec": {
   "display_name": "Python 3 (ipykernel)",
   "language": "python",
   "name": "python3"
  },
  "language_info": {
   "codemirror_mode": {
    "name": "ipython",
    "version": 3
   },
   "file_extension": ".py",
   "mimetype": "text/x-python",
   "name": "python",
   "nbconvert_exporter": "python",
   "pygments_lexer": "ipython3",
   "version": "3.10.8"
  }
 },
 "nbformat": 4,
 "nbformat_minor": 5
}
