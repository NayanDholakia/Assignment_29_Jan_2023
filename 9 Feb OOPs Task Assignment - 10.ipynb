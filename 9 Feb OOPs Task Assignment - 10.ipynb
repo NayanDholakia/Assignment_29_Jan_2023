{
 "cells": [
  {
   "cell_type": "code",
   "execution_count": null,
   "id": "f906f536-57e3-48a2-b9b4-f9ad861a790b",
   "metadata": {},
   "outputs": [],
   "source": [
    "\"\"\"Q1, Create a vehicle class with an init method having instance variables as name_of_vehicle, max_speed and \n",
    "average_of_vehicle.\"\"\""
   ]
  },
  {
   "cell_type": "code",
   "execution_count": 1,
   "id": "254f4348-b675-4aa7-a293-44e5b780667c",
   "metadata": {},
   "outputs": [],
   "source": [
    "#a vehicle class with an init method having instance variables as name_of_vehicle, max_speed and average_of_vehicle.\n",
    "class vehicle:\n",
    "    def __init__(self, name_of_vehicle, max_speed, average_of_vehicle):\n",
    "        self.name_of_vehicle = name_of_vehicle\n",
    "        self.max_speed = max_speed\n",
    "        self.average_of_vehicle = average_of_vehicle"
   ]
  },
  {
   "cell_type": "code",
   "execution_count": null,
   "id": "e719e279-bde9-48ac-a390-59cb3bb64c49",
   "metadata": {},
   "outputs": [],
   "source": [
    "\"\"\"Q2. Create a child class car from the vehicle class created in Que 1, which will inherit the vehicle class. \n",
    "Create a method named seating_capacity which takes capacity as an argument and returns the name of the vehicle \n",
    "and its seating capacity.\"\"\""
   ]
  },
  {
   "cell_type": "code",
   "execution_count": 2,
   "id": "05d3db08-6a88-429d-9d04-ec42ac195cdb",
   "metadata": {},
   "outputs": [],
   "source": [
    "#a child class car from the vehicle class created in Que 1, which will inherit the vehicle class.\n",
    "# Create a method named seating_capacity which takes capacity as an argument and returns the name of the vehicle\n",
    "#and its seating capacity.\n",
    "class car(vehicle):\n",
    "    def seating_capacity(self, capacity):\n",
    "        self.capacity = capacity\n",
    "        return self.name_of_vehicle, self.capacity"
   ]
  },
  {
   "cell_type": "code",
   "execution_count": 3,
   "id": "332af3f2-7252-4131-a8be-1641c3b083ed",
   "metadata": {},
   "outputs": [
    {
     "data": {
      "text/plain": [
       "('Bugatti Bolide', 4)"
      ]
     },
     "execution_count": 3,
     "metadata": {},
     "output_type": "execute_result"
    }
   ],
   "source": [
    "c1= car(\"Bugatti Bolide\", 310, 310)\n",
    "c1.seating_capacity(4)"
   ]
  },
  {
   "cell_type": "code",
   "execution_count": null,
   "id": "4d0bb229-3651-4dfc-a5db-fde0906818dd",
   "metadata": {},
   "outputs": [],
   "source": [
    "\"\"\"Q3. What is multiple inheritance? Write a python code to demonstrate multiple inheritance.\"\"\""
   ]
  },
  {
   "cell_type": "code",
   "execution_count": 4,
   "id": "fdcfc4c5-417d-4b22-ae47-44736093369f",
   "metadata": {},
   "outputs": [
    {
     "name": "stdout",
     "output_type": "stream",
     "text": [
      "Parent1 method1\n",
      "Parent2 method2\n"
     ]
    }
   ],
   "source": [
    "\"\"\"Multiple inheritance is a feature of object-oriented programming (OOP) languages where a class can inherit properties \n",
    "and methods from more than one parent class. In other words, a class can inherit from multiple classes, \n",
    "thus inheriting the attributes and behaviors of all its parent classes.\n",
    "Here is an example of multiple inheritance in Python:\"\"\"\n",
    "class Parent1:\n",
    "    def method1(self):\n",
    "        print(\"Parent1 method1\")\n",
    "\n",
    "class Parent2:\n",
    "    def method2(self):\n",
    "        print(\"Parent2 method2\")\n",
    "\n",
    "class Child(Parent1, Parent2):\n",
    "    pass\n",
    "\n",
    "c = Child()\n",
    "c.method1()\n",
    "c.method2()"
   ]
  },
  {
   "cell_type": "code",
   "execution_count": null,
   "id": "22caf220-ef6c-4d99-85a1-85f7238c2da4",
   "metadata": {},
   "outputs": [],
   "source": [
    "\"\"\"Q4. What are getter and setter in python? Create a class and create a getter and a setter method in this class.\"\"\""
   ]
  },
  {
   "cell_type": "code",
   "execution_count": 5,
   "id": "f8939569-0722-4ac8-9647-af9755a6528b",
   "metadata": {},
   "outputs": [
    {
     "name": "stdout",
     "output_type": "stream",
     "text": [
      "Shudhanshu sir\n",
      "Krish sir\n"
     ]
    }
   ],
   "source": [
    "\"\"\"In object-oriented programming, getters and setters are methods used to retrieve and update the values of object properties, \n",
    "respectively. The use of getters and setters is a common technique for encapsulating object data and ensuring that \n",
    "it can be accessed and modified in a controlled and predictable manner.\"\"\"\n",
    "class Person:\n",
    "    def __init__(self, name):\n",
    "        self._name = name\n",
    "\n",
    "    def get_name(self):\n",
    "        return self._name\n",
    "\n",
    "    def set_name(self, name):\n",
    "        self._name = name\n",
    "\n",
    "person = Person(\"Shudhanshu sir\")\n",
    "print(person.get_name()) \n",
    "person.set_name(\"Krish sir\")\n",
    "print(person.get_name()) "
   ]
  },
  {
   "cell_type": "code",
   "execution_count": null,
   "id": "be34d136-0cc3-4bf9-acdb-ef5b0691f69c",
   "metadata": {},
   "outputs": [],
   "source": [
    "\"\"\"Q5.What is method overriding in python? Write a python code to demonstrate method overriding.\"\"\""
   ]
  },
  {
   "cell_type": "code",
   "execution_count": 6,
   "id": "0e4b8340-3fd6-463f-b34b-1680c4e59fac",
   "metadata": {},
   "outputs": [
    {
     "name": "stdout",
     "output_type": "stream",
     "text": [
      "200\n",
      "314.0\n"
     ]
    }
   ],
   "source": [
    "\"\"\"Method overriding is a feature of object-oriented programming in which a subclass can provide a new implementation of \n",
    "a method that is already defined in its parent class. The subclass method is said to \"override\" the parent class method. \n",
    "This allows the subclass to change or extend the behavior of the method inherited from the parent class,\n",
    "while still maintaining the same method signature.\"\"\"\n",
    "class Shape:\n",
    "    def area(self):\n",
    "        pass\n",
    "\n",
    "class Rectangle(Shape):\n",
    "    def __init__(self, width, height):\n",
    "        self.width = width\n",
    "        self.height = height\n",
    "\n",
    "    def area(self):\n",
    "        return self.width * self.height\n",
    "\n",
    "class Circle(Shape):\n",
    "    def __init__(self, radius):\n",
    "        self.radius = radius\n",
    "\n",
    "    def area(self):\n",
    "        return 3.14 * self.radius * self.radius\n",
    "\n",
    "rect = Rectangle(10, 20)\n",
    "print(rect.area()) # Output: 200\n",
    "\n",
    "circle = Circle(10)\n",
    "print(circle.area()) # Output: 314.0"
   ]
  }
 ],
 "metadata": {
  "kernelspec": {
   "display_name": "Python 3 (ipykernel)",
   "language": "python",
   "name": "python3"
  },
  "language_info": {
   "codemirror_mode": {
    "name": "ipython",
    "version": 3
   },
   "file_extension": ".py",
   "mimetype": "text/x-python",
   "name": "python",
   "nbconvert_exporter": "python",
   "pygments_lexer": "ipython3",
   "version": "3.10.8"
  }
 },
 "nbformat": 4,
 "nbformat_minor": 5
}
