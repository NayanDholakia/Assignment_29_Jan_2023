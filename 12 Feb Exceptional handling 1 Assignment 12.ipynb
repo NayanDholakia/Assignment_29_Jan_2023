{
 "cells": [
  {
   "cell_type": "code",
   "execution_count": 1,
   "id": "980ef357-5913-46f6-9b07-95c22aa04b85",
   "metadata": {},
   "outputs": [
    {
     "ename": "SyntaxError",
     "evalue": "invalid syntax. Maybe you meant '==' or ':=' instead of '='? (3732873384.py, line 21)",
     "output_type": "error",
     "traceback": [
      "\u001b[0;36m  Cell \u001b[0;32mIn[1], line 21\u001b[0;36m\u001b[0m\n\u001b[0;31m    if b = 5:\u001b[0m\n\u001b[0m       ^\u001b[0m\n\u001b[0;31mSyntaxError\u001b[0m\u001b[0;31m:\u001b[0m invalid syntax. Maybe you meant '==' or ':=' instead of '='?\n"
     ]
    }
   ],
   "source": [
    "\"\"\"Q1. What is an Exception in python? Write the difference between Exceptions and Syntax errors.\"\"\"\n",
    "\n",
    "'''In Python, an Exception is an error that occurs during the execution of a program. When an Exception occurs, the program stops executing and \n",
    "Python raises an error message that describes the type of exception that occurred and the line of code where the exception occurred.\n",
    "Exceptions can occur for a variety of reasons, such as when a program tries to perform an operation on data that is not the expected type or \n",
    "when a program tries to access a resource that is not available. Python provides a set of built-in Exception classes that can be used to handle\n",
    "different types of exceptions.\n",
    "Syntax errors, on the other hand, occur when there is a problem with the syntax of the Python code itself. These errors occur before \n",
    "the program is executed and are caught by the Python interpreter before the code is run. Examples of syntax errors include forgetting to close a parentheses or\n",
    "a quotation mark, or using an incorrect keyword or operator.\n",
    "Here's an example that demonstrates the difference between Exceptions and Syntax errors:'''\n",
    "\n",
    "# Example of an Exception\n",
    "try:\n",
    "    a = 10 / 0\n",
    "except ZeroDivisionError:\n",
    "    print(\"Error: Division by zero\")\n",
    "\n",
    "# Example of a Syntax error\n",
    "b = 10\n",
    "if b = 5:\n",
    "    print(\"b is equal to 5\")"
   ]
  },
  {
   "cell_type": "code",
   "execution_count": null,
   "id": "cbf8b20a-a975-4dd0-885f-ef6d30e3728c",
   "metadata": {},
   "outputs": [],
   "source": [
    "\"\"\"In the first example, we try to divide the number 10 by 0, which is not allowed. This causes a ZeroDivisionError Exception to be raised,\n",
    "which we catch and handle by printing an error message.\n",
    "\n",
    "In the second example, we have a syntax error in the if statement, where we are using the assignment operator (=) instead of the equality operator (==). \n",
    "This causes a syntax error, which is caught by the Python interpreter and prevents the program from executing.\n",
    "\n",
    "In summary, Exceptions are errors that occur during the execution of a program, while Syntax errors are errors that occur before the program is executed, \n",
    "due to problems with the syntax of the Python code itself.\"\"\""
   ]
  },
  {
   "cell_type": "code",
   "execution_count": 2,
   "id": "b011d4f3-060c-4389-b577-5302de4d71ac",
   "metadata": {},
   "outputs": [
    {
     "ename": "ZeroDivisionError",
     "evalue": "division by zero",
     "output_type": "error",
     "traceback": [
      "\u001b[0;31m---------------------------------------------------------------------------\u001b[0m",
      "\u001b[0;31mZeroDivisionError\u001b[0m                         Traceback (most recent call last)",
      "Cell \u001b[0;32mIn[2], line 8\u001b[0m\n\u001b[1;32m      3\u001b[0m \u001b[38;5;124;03m'''When an exception is not handled in a Python program, it will cause the program to terminate and an error message will be displayed that describes \u001b[39;00m\n\u001b[1;32m      4\u001b[0m \u001b[38;5;124;03mthe type of exception that occurred and the line of code where the exception occurred.\u001b[39;00m\n\u001b[1;32m      5\u001b[0m \u001b[38;5;124;03mHere's an example that demonstrates what happens when an exception is not handled:'''\u001b[39;00m\n\u001b[1;32m      7\u001b[0m \u001b[38;5;66;03m# Example of an unhandled exception\u001b[39;00m\n\u001b[0;32m----> 8\u001b[0m a \u001b[38;5;241m=\u001b[39m \u001b[38;5;241;43m10\u001b[39;49m\u001b[43m \u001b[49m\u001b[38;5;241;43m/\u001b[39;49m\u001b[43m \u001b[49m\u001b[38;5;241;43m0\u001b[39;49m\n\u001b[1;32m      9\u001b[0m \u001b[38;5;28mprint\u001b[39m(\u001b[38;5;124m\"\u001b[39m\u001b[38;5;124mResult: \u001b[39m\u001b[38;5;124m\"\u001b[39m, a)\n",
      "\u001b[0;31mZeroDivisionError\u001b[0m: division by zero"
     ]
    }
   ],
   "source": [
    "\"\"\"Q2. What happens when an exception is not handled? Explain with an example\"\"\"\n",
    "\n",
    "'''When an exception is not handled in a Python program, it will cause the program to terminate and an error message will be displayed that describes \n",
    "the type of exception that occurred and the line of code where the exception occurred.\n",
    "Here's an example that demonstrates what happens when an exception is not handled:'''\n",
    "\n",
    "# Example of an unhandled exception\n",
    "a = 10 / 0\n",
    "print(\"Result: \", a)"
   ]
  },
  {
   "cell_type": "code",
   "execution_count": null,
   "id": "0c0cb0d2-f073-4d9b-ad6e-5860acdea614",
   "metadata": {},
   "outputs": [],
   "source": [
    "\"\"\"As we can see from the error message, Python tells us that a ZeroDivisionError occurred and that it was caused by a division by zero on line 1 of the code.\n",
    "The \"Traceback\" section of the error message shows the sequence of function calls that led to the exception.\n",
    "\n",
    "In summary, if an exception is not handled in a Python program, it will cause the program to terminate and display an error message that describes \n",
    "the type of exception that occurred and the line of code where the exception occurred. \n",
    "It's important to handle exceptions in your code to prevent unexpected program termination and to provide a graceful way to handle errors.\"\"\""
   ]
  },
  {
   "cell_type": "code",
   "execution_count": 3,
   "id": "196fdc9a-2b94-4777-8a7a-21d1625af910",
   "metadata": {},
   "outputs": [
    {
     "name": "stdout",
     "output_type": "stream",
     "text": [
      "Error: Division by zero\n"
     ]
    }
   ],
   "source": [
    "\"\"\"Q3. Which Python statements are used to catch and handle exceptions? Explain with an example\"\"\"\n",
    "\n",
    "\n",
    "'''In Python, the try and except statements are used to catch and handle exceptions. \n",
    "The try statement is used to enclose a block of code that might raise an exception,\n",
    "while the except statement is used to specify how to handle the exception if one is raised.\n",
    "Here's an example that demonstrates how to catch and handle an exception in Python using try and except:'''\n",
    "\n",
    "try:\n",
    "    a = 10 / 0\n",
    "except ZeroDivisionError:\n",
    "    print(\"Error: Division by zero\")\n"
   ]
  },
  {
   "cell_type": "code",
   "execution_count": 4,
   "id": "771d63e7-2b58-4b21-aadf-59774ce71b22",
   "metadata": {},
   "outputs": [
    {
     "name": "stdout",
     "output_type": "stream",
     "text": [
      "a = 2.0\n"
     ]
    }
   ],
   "source": [
    "\"\"\"Q4. Explain with an example:\"\"\"\n",
    "    \n",
    "'''a. try and else b. finally c. raise\n",
    "\n",
    "In Python, the try statement can be followed by an optional else block. The else block is executed only if the try block does not raise an exception.\n",
    "It is often used to specify code that should be executed regardless of whether an exception occurred or not. Here's an example:\n",
    "\n",
    "python Copy code try:'''\n",
    "\n",
    "try:\n",
    "    a = 10 / 5\n",
    "except ZeroDivisionError:\n",
    "    print(\"Error: Division by zero\")\n",
    "else:\n",
    "    print(\"a =\", a)"
   ]
  },
  {
   "cell_type": "code",
   "execution_count": 5,
   "id": "b272722f-02c9-447b-959e-bad130cbefa6",
   "metadata": {},
   "outputs": [
    {
     "name": "stdout",
     "output_type": "stream",
     "text": [
      "Line 1\n",
      "Line 2\n",
      "Line 3\n",
      "\n"
     ]
    }
   ],
   "source": [
    "\"\"\"b. finally:\n",
    "\n",
    "In Python, the finally block can be used to specify code that should be executed regardless of whether an exception was raised or not.\n",
    "The finally block is always executed, even if an exception occurred and was caught by an except block. Here's an example:\"\"\"\n",
    "\n",
    "try:\n",
    "    file = open(\"example.txt\", \"r\")\n",
    "    contents = file.read()\n",
    "    print(contents)\n",
    "except FileNotFoundError:\n",
    "    print(\"Error: File not found\")\n",
    "finally:\n",
    "    file.close()"
   ]
  },
  {
   "cell_type": "code",
   "execution_count": 6,
   "id": "c2d05156-03e0-4436-ba8b-a4bc13ef092d",
   "metadata": {},
   "outputs": [
    {
     "name": "stdout",
     "output_type": "stream",
     "text": [
      "Error: Division by zero\n"
     ]
    }
   ],
   "source": [
    "\"\"\"c. raise:\n",
    "\n",
    "In Python, the raise statement can be used to raise an exception manually. It is often used to indicate that an error has occurred\n",
    "and to stop the execution of the program.Here's an example:\"\"\"\n",
    "\n",
    "def divide(a, b):\n",
    "    if b == 0:\n",
    "        raise ZeroDivisionError(\"Error: Division by zero\")\n",
    "    else:\n",
    "        return a / b\n",
    "\n",
    "try:\n",
    "    result = divide(10, 0)\n",
    "except ZeroDivisionError as e:\n",
    "    print(e)"
   ]
  },
  {
   "cell_type": "code",
   "execution_count": 7,
   "id": "a577658b-a9ba-445f-b468-fd793ebc586d",
   "metadata": {},
   "outputs": [
    {
     "name": "stdout",
     "output_type": "stream",
     "text": [
      "Error: Negative number not allowed: -5\n"
     ]
    }
   ],
   "source": [
    "\"\"\"Q5. What are Custom Exceptions in python? Why do we need Custom Exceptions? Explain with an example\"\"\"\n",
    "\n",
    "'''In Python, custom exceptions can be defined by creating a new class that inherits from the built-in Exception class.\n",
    "These custom exceptions can be used to represent specific error conditions that are not covered by the built-in exceptions,\n",
    "and can provide more specific information about what went wrong in the code.\n",
    "\n",
    "We need custom exceptions in Python when we want to raise exceptions that are specific to our own code or application. \n",
    "By creating custom exceptions, we can give more meaningful error messages and provide better feedback to the user.\n",
    "This can help with debugging and troubleshooting, and can make our code more readable and maintainable.\n",
    "\n",
    "Here's an example of how to create a custom exception in Python:'''\n",
    "\n",
    "\n",
    "class NegativeNumberError(Exception):\n",
    "    def __init__(self, number):\n",
    "        self.number = number\n",
    "        self.message = \"Error: Negative number not allowed\"\n",
    "        super().__init__(self.message)\n",
    "\n",
    "    def __str__(self):\n",
    "        return f\"{self.message}: {self.number}\"\n",
    "\n",
    "def divide(a, b):\n",
    "    if b < 0:\n",
    "        raise NegativeNumberError(b)\n",
    "    else:\n",
    "        return a / b\n",
    "\n",
    "try:\n",
    "    result = divide(10, -5)\n",
    "except NegativeNumberError as e:\n",
    "    print(e)"
   ]
  },
  {
   "cell_type": "code",
   "execution_count": 8,
   "id": "3b4696cf-86c4-4d90-922e-9f451564dc17",
   "metadata": {},
   "outputs": [
    {
     "name": "stdout",
     "output_type": "stream",
     "text": [
      "Error: Division by zero not allowed\n"
     ]
    }
   ],
   "source": [
    "\"\"\"Q6. Create custom exception class. Use this class to handle an exception.\"\"\"\n",
    "\n",
    "class CustomException(Exception):\n",
    "    def __init__(self, message):\n",
    "        self.message = message\n",
    "        super().__init__(self.message)\n",
    "\n",
    "def divide(a, b):\n",
    "    if b == 0:\n",
    "        raise CustomException(\"Error: Division by zero not allowed\")\n",
    "    else:\n",
    "        return a / b\n",
    "\n",
    "try:\n",
    "    result = divide(10, 0)\n",
    "except CustomException as e:\n",
    "    print(e.message)"
   ]
  }
 ],
 "metadata": {
  "kernelspec": {
   "display_name": "Python 3 (ipykernel)",
   "language": "python",
   "name": "python3"
  },
  "language_info": {
   "codemirror_mode": {
    "name": "ipython",
    "version": 3
   },
   "file_extension": ".py",
   "mimetype": "text/x-python",
   "name": "python",
   "nbconvert_exporter": "python",
   "pygments_lexer": "ipython3",
   "version": "3.10.8"
  }
 },
 "nbformat": 4,
 "nbformat_minor": 5
}
