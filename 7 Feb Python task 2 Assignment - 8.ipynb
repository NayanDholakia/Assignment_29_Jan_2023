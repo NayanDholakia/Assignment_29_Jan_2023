{
 "cells": [
  {
   "cell_type": "code",
   "execution_count": null,
   "id": "fea00c86-d4db-4089-9cda-1e1838e66d1b",
   "metadata": {},
   "outputs": [],
   "source": [
    "\"\"\"Q1. You are writing code for a company. The requirement of the company is that you create a python\n",
    "function that will check whether the password entered by the user is correct or not. The function should\n",
    "take the password as input and return the string “Valid Password” if the entered password follows the\n",
    "below-given password guidelines else it should return “Invalid Password”.\"\"\"\n",
    "#Note: 1. The Password should contain at least two uppercase letters and at least two lowercase letters.\n",
    "#2. The Password should contain at least a number and three special characters.\n",
    "#3. The length of the password should be 10 characters long."
   ]
  },
  {
   "cell_type": "code",
   "execution_count": 1,
   "id": "70f6dc98-fa35-49fd-b79b-3ff08a492d8b",
   "metadata": {},
   "outputs": [
    {
     "data": {
      "text/plain": [
       "'Valid Password'"
      ]
     },
     "execution_count": 1,
     "metadata": {},
     "output_type": "execute_result"
    }
   ],
   "source": [
    "#password check program\n",
    "from string import punctuation\n",
    "def checkPass(password):\n",
    "    uppercase = 0\n",
    "    lowercase = 0\n",
    "    special_char = 0\n",
    "    number = 0\n",
    "    valid = False\n",
    "    if len(password)>=10:\n",
    "        for i in password:\n",
    "            if i.isupper():\n",
    "                uppercase+=1\n",
    "            if i.islower():\n",
    "                lowercase+=1\n",
    "            if i in punctuation:\n",
    "                special_char+=1\n",
    "            if i.isnumeric():\n",
    "                number+=1\n",
    "        if uppercase>=2 and lowercase>=2 and special_char>=3 and number>=1:\n",
    "            valid=True\n",
    "    else:\n",
    "        valid= False\n",
    "    if valid:\n",
    "        return \"Valid Password\"\n",
    "    else:\n",
    "        return \"Invalid Password\"\n",
    "checkPass(\"$ThisIsSecret$123@\")"
   ]
  },
  {
   "cell_type": "code",
   "execution_count": null,
   "id": "a6516f47-9c0f-4cc0-9c4a-109f8f42b844",
   "metadata": {},
   "outputs": [],
   "source": [
    "\"\"\"Q2. Solve the below-given questions using at least one of the following:\n",
    "1. Lambda functioJ\n",
    "2. Filter functioJ\n",
    "3. Zap functioJ\n",
    "4. List ComprehensioI\n",
    "B Check if the string starts with a particular letterY\n",
    "B Check if the string is numericY\n",
    "B Sort a list of tuples having fruit names and their quantity. [(\"mango\",99),(\"orange\",80), (\"grapes\", 1000)-\n",
    "B Find the squares of numbers from 1 to 10Y\n",
    "B Find the cube root of numbers from 1 to 10Y\n",
    "B Check if a given number is evenY\n",
    "B Filter odd numbers from the given list.\n",
    "[1,2,3,4,5,6,7,8,9,10-\n",
    "B Sort a list of integers into positive and negative integers lists.\n",
    "[1,2,3,4,5,6,-1,-2,-3,-4,-5,0]\"\"\""
   ]
  },
  {
   "cell_type": "code",
   "execution_count": 2,
   "id": "46581d09-d161-4c99-9a79-feda063e3478",
   "metadata": {},
   "outputs": [
    {
     "data": {
      "text/plain": [
       "True"
      ]
     },
     "execution_count": 2,
     "metadata": {},
     "output_type": "execute_result"
    }
   ],
   "source": [
    "#Check if the string starts with a particular letter\n",
    "def check_string_start(string, start_letter):\n",
    "    return True if string[0] == start_letter else False\n",
    "\n",
    "# Using Lambda function\n",
    "check_string_start_lambda = lambda string, start_letter: True if string[0] == start_letter else False\n",
    "check_string_start(\"Hello\", \"H\")"
   ]
  },
  {
   "cell_type": "code",
   "execution_count": 3,
   "id": "c76e85a8-1d53-4e9a-938b-e87d7169daaa",
   "metadata": {},
   "outputs": [
    {
     "data": {
      "text/plain": [
       "True"
      ]
     },
     "execution_count": 3,
     "metadata": {},
     "output_type": "execute_result"
    }
   ],
   "source": [
    "#Check if the string is numeric\n",
    "def check_string_numeric(string):\n",
    "    return True if string.isdigit() else False\n",
    "\n",
    "# Using Lambda function\n",
    "check_string_numeric_lambda = lambda string: True if string.isdigit() else False\n",
    "check_string_numeric(\"123\")"
   ]
  },
  {
   "cell_type": "code",
   "execution_count": 4,
   "id": "aa1ac008-8354-48c0-a524-ba7808ebed63",
   "metadata": {},
   "outputs": [
    {
     "name": "stdout",
     "output_type": "stream",
     "text": [
      "[('orange', 80), ('mango', 99), ('grapes', 1000)]\n",
      "[('orange', 80), ('mango', 99), ('grapes', 1000)]\n"
     ]
    }
   ],
   "source": [
    "#Sort a list of tuples having fruit names and their quantity\n",
    "fruits = [(\"mango\",99),(\"orange\",80), (\"grapes\", 1000)]\n",
    "\n",
    "# Using Lambda function\n",
    "sorted_fruits = sorted(fruits, key=lambda x: x[1])\n",
    "print(sorted_fruits)\n",
    "# Using List Comprehension\n",
    "sorted_fruits_lc = [fruit for fruit in sorted(fruits, key=lambda x: x[1])]\n",
    "print(sorted_fruits_lc)"
   ]
  },
  {
   "cell_type": "code",
   "execution_count": 5,
   "id": "0390c183-e240-4ad7-9165-f038192e8572",
   "metadata": {},
   "outputs": [
    {
     "name": "stdout",
     "output_type": "stream",
     "text": [
      "[1, 4, 9, 16, 25, 36, 49, 64, 81, 100]\n",
      "[1, 4, 9, 16, 25, 36, 49, 64, 81, 100]\n"
     ]
    }
   ],
   "source": [
    "#Find the squares of numbers from 1 to 10\n",
    "# Using Map function\n",
    "squared_numbers = list(map(lambda x: x**2, range(1, 11)))\n",
    "print(squared_numbers)\n",
    "# Using List Comprehension\n",
    "squared_numbers_lc = [x**2 for x in range(1, 11)]\n",
    "print(squared_numbers_lc)"
   ]
  },
  {
   "cell_type": "code",
   "execution_count": 6,
   "id": "8ddaa9f1-ff1d-4503-b34a-b495f57d7e78",
   "metadata": {},
   "outputs": [
    {
     "name": "stdout",
     "output_type": "stream",
     "text": [
      "[1.0, 1.2599210498948732, 1.4422495703074083, 1.5874010519681994, 1.7099759466766968, 1.8171205928321397, 1.912931182772389, 2.0, 2.080083823051904, 2.154434690031884]\n",
      "[1.0, 1.2599210498948732, 1.4422495703074083, 1.5874010519681994, 1.7099759466766968, 1.8171205928321397, 1.912931182772389, 2.0, 2.080083823051904, 2.154434690031884]\n"
     ]
    }
   ],
   "source": [
    "#Find the cube root of numbers from 1 to 10\n",
    "# Using Map function\n",
    "cuberoot_numbers = list(map(lambda x: x**(1/3), range(1, 11)))\n",
    "print(cuberoot_numbers)\n",
    "# Using List Comprehension\n",
    "cuberoot_numbers_lc = [x**(1/3) for x in range(1, 11)]\n",
    "print(cuberoot_numbers_lc)"
   ]
  },
  {
   "cell_type": "code",
   "execution_count": 7,
   "id": "e82dff36-dc61-4699-b144-bee03be716ea",
   "metadata": {},
   "outputs": [
    {
     "name": "stdout",
     "output_type": "stream",
     "text": [
      "True\n"
     ]
    }
   ],
   "source": [
    "#Check if a given number is even\n",
    "# Using Lambda function\n",
    "is_even_lambda = lambda number: True if number % 2 == 0 else False\n",
    "print(is_even_lambda(6))"
   ]
  },
  {
   "cell_type": "code",
   "execution_count": 8,
   "id": "049f6b05-3326-4958-be55-a4a9b07625c6",
   "metadata": {},
   "outputs": [
    {
     "name": "stdout",
     "output_type": "stream",
     "text": [
      "[1, 3, 5, 7, 9]\n"
     ]
    }
   ],
   "source": [
    "#Filter odd numbers from the given list\n",
    "numbers = [1,2,3,4,5,6,7,8,9,10]\n",
    "\n",
    "# Using Filter function\n",
    "odd_numbers = list(filter(lambda x: x % 2 != 0, numbers))\n",
    "print(odd_numbers)"
   ]
  },
  {
   "cell_type": "code",
   "execution_count": 9,
   "id": "08b7c992-eb2d-470c-be16-54c5e7191115",
   "metadata": {},
   "outputs": [
    {
     "name": "stdout",
     "output_type": "stream",
     "text": [
      "[1, 2, 3, 4, 5, 6]\n",
      "[-1, -2, -3, -4, -5]\n"
     ]
    }
   ],
   "source": [
    "#Sort a list of integers into positive and negative integers lists\n",
    "numbers = [1,2,3,4,5,6,-1,-2,-3,-4,-5,0]\n",
    "\n",
    "# Using List Comprehension\n",
    "positive_numbers = [x for x in numbers if x > 0]\n",
    "negative_numbers = [x for x in numbers if x < 0]\n",
    "print(positive_numbers)\n",
    "print(negative_numbers)"
   ]
  }
 ],
 "metadata": {
  "kernelspec": {
   "display_name": "Python 3 (ipykernel)",
   "language": "python",
   "name": "python3"
  },
  "language_info": {
   "codemirror_mode": {
    "name": "ipython",
    "version": 3
   },
   "file_extension": ".py",
   "mimetype": "text/x-python",
   "name": "python",
   "nbconvert_exporter": "python",
   "pygments_lexer": "ipython3",
   "version": "3.10.8"
  }
 },
 "nbformat": 4,
 "nbformat_minor": 5
}
